{
 "cells": [
  {
   "cell_type": "code",
   "execution_count": 4,
   "metadata": {
    "collapsed": false
   },
   "outputs": [
    {
     "name": "stdout",
     "output_type": "stream",
     "text": [
      "[[  1.00000000e+00   2.00000000e+00   2.30000000e+01 ...,   0.00000000e+00\n",
      "    0.00000000e+00   3.92051700e+04]\n",
      " [  3.00000000e+00   2.00000000e+00   3.40000000e+01 ...,   0.00000000e+00\n",
      "    0.00000000e+00   4.92780300e+04]\n",
      " [  4.00000000e+00   2.00000000e+00   2.30000000e+01 ...,   0.00000000e+00\n",
      "    0.00000000e+00   6.73337700e+04]\n",
      " ..., \n",
      " [  8.70000000e+01   2.00000000e+00   3.90000000e+01 ...,   0.00000000e+00\n",
      "    0.00000000e+00   4.75464600e+04]\n",
      " [  8.80000000e+01   2.00000000e+00   3.90000000e+01 ...,   0.00000000e+00\n",
      "    0.00000000e+00   1.17310979e+05]\n",
      " [  9.00000000e+01   2.00000000e+00   2.30000000e+01 ...,   0.00000000e+00\n",
      "    0.00000000e+00   4.46316300e+04]]\n",
      "[ 0.  0.  0.  0.  0.  0.  0.  0.  0.  0.  0.  0.  0.  0.  0.  0.  0.  0.\n",
      "  0.  0.  0.  0.  0.  0.  0.  0.  0.  0.  0.  0.  0.  1.  0.  0.  0.  0.\n",
      "  0.  0.  0.]\n",
      "39 371\n",
      "1.0\n"
     ]
    }
   ],
   "source": [
    "import pandas as pd\n",
    "import numpy as np\n",
    "\n",
    "data = pd.read_csv(\"trainsmall.csv\")\n",
    "(m, n) = data.values.shape\n",
    "X = data.values[:, 0:n-1]\n",
    "y = data.values[:,-1]\n",
    "print(m,n)"
   ]
  }
 ],
 "metadata": {
  "kernelspec": {
   "display_name": "Python 3",
   "language": "python",
   "name": "python3"
  },
  "language_info": {
   "codemirror_mode": {
    "name": "ipython",
    "version": 3
   },
   "file_extension": ".py",
   "mimetype": "text/x-python",
   "name": "python",
   "nbconvert_exporter": "python",
   "pygments_lexer": "ipython3",
   "version": "3.5.1"
  }
 },
 "nbformat": 4,
 "nbformat_minor": 0
}
